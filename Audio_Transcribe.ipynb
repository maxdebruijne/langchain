{
 "cells": [
  {
   "cell_type": "code",
   "execution_count": 16,
   "metadata": {},
   "outputs": [
    {
     "name": "stdout",
     "output_type": "stream",
     "text": [
      "Could not request results from Google Speech Recognition service\n"
     ]
    }
   ],
   "source": [
    "import speech_recognition as sr\n",
    "from pydub import AudioSegment\n",
    "\n",
    "def transcribe_audio(wav_path, language = \"nl-NL\"):\n",
    "\n",
    "\n",
    "    # Initialize the recognizer\n",
    "    recognizer = sr.Recognizer()\n",
    "\n",
    "    # Load the audio file\n",
    "    with sr.AudioFile(wav_path) as source:\n",
    "        audio_data = recognizer.record(source)\n",
    "\n",
    "    # Perform speech recognition\n",
    "    try:\n",
    "        text = recognizer.recognize_google(audio_data, language = language)\n",
    "        return text\n",
    "    except sr.UnknownValueError:\n",
    "        return \"Google Speech Recognition could not understand the audio\"\n",
    "    except sr.RequestError:\n",
    "        return \"Could not request results from Google Speech Recognition service\"\n",
    "\n",
    "# Replace 'your_audio_file.mp4' with the path to your .mp4 audio file\n",
    "audio_file = \"C:/Users/MaxdeBruijne/Documents/GitHub/langchain/Interview_Isabel_2.wav\"\n",
    "transcript = transcribe_audio(audio_file)\n",
    "print(transcript)\n",
    "\n",
    "\n",
    "\n"
   ]
  },
  {
   "cell_type": "markdown",
   "metadata": {},
   "source": [
    "Hey hallo Hoe gaat het Ja goed dat was niet zo lekker weer vandaag wat zei je grote interview en nu begonnen Ja je bent de eerste dus het is wel even een even kijken met de vragen enzo en de opbouw ervan maar alleen maar chill dat het met jou de eerste keer is en niet met Ja iemand maar iemand waar die ik niet ken weet je wel iemand die heel duidelijk is dus ik had ook voor Ik had ook eh een uur ingepland omdat ik dacht Ja beter een uur dan en dan zijn we voor beide misschien zelfs dat we eerder klaar zijn is alleen maar een win-win situatie Ja want ik hoop dat ik genoeg te melden heb hoor want ik weet natuurlijk geen echte Expert bent nee ja daar loop ik wel echt een beetje tegen aan merk ik dat iedereen die zegt dat zelfs ook best wel de Ai mensen waardoor het echt moeilijk is om mensen te vinden Maar goed ik hoop ik heb wel ook nu eh mensen buiten Nederland maar gecontacteerd kan geven want die implementeert letterlijk Lars language Models bij banken dus ik dacht Ja dat kan ook wel gewoon waardevol zijn want ja ik moet het wel gewoon halen natuurlijk hard werken maar goed ik ben alleen maar blij dat ik denk dat jij het gaat ook niet echt over je per se kennis ofzo maar meer over hoe je er tegenaan kijkt perspectieven dus ik denk dat jouw perspectief alsnog heel waardevol zijn ik worden weergegeven in het onderzoek ben ik het zeg maar een anonieme consultant in the financial service Nou je bent sowieso anoniem Maar jij zou dan een TNO perspectief geven Ik probeer eigenlijk een beetje de TNO en data and High perspectieven te combineren omdat toen ook kamalika zei dat ze ook wel ervaart dat er een beetje een gap was van dat het onduidelijk was waar TNO Nou ja en kan"
   ]
  }
 ],
 "metadata": {
  "kernelspec": {
   "display_name": "Python 3",
   "language": "python",
   "name": "python3"
  },
  "language_info": {
   "codemirror_mode": {
    "name": "ipython",
    "version": 3
   },
   "file_extension": ".py",
   "mimetype": "text/x-python",
   "name": "python",
   "nbconvert_exporter": "python",
   "pygments_lexer": "ipython3",
   "version": "3.12.1"
  }
 },
 "nbformat": 4,
 "nbformat_minor": 2
}
